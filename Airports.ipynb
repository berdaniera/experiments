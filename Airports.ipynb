{
  "nbformat": 4,
  "nbformat_minor": 0,
  "metadata": {
    "colab": {
      "name": "Airports.ipynb",
      "provenance": [],
      "collapsed_sections": [],
      "authorship_tag": "ABX9TyPpkriFc5AmtqJ6hbtsBGuW",
      "include_colab_link": true
    },
    "kernelspec": {
      "name": "python3",
      "display_name": "Python 3"
    },
    "language_info": {
      "name": "python"
    }
  },
  "cells": [
    {
      "cell_type": "markdown",
      "metadata": {
        "id": "view-in-github",
        "colab_type": "text"
      },
      "source": [
        "<a href=\"https://colab.research.google.com/github/berdaniera/experiments/blob/master/Airports.ipynb\" target=\"_parent\"><img src=\"https://colab.research.google.com/assets/colab-badge.svg\" alt=\"Open In Colab\"/></a>"
      ]
    },
    {
      "cell_type": "markdown",
      "metadata": {
        "id": "A3l-uN0pCWZ1"
      },
      "source": [
        "# Routing problem example\n",
        "\n",
        "**Scenario:** 10 drop-offs from a common location with 4 airplanes, e.g., following a major event. (Extensions include different pickup and drop-off locations, capacity and time window constraints.)"
      ]
    },
    {
      "cell_type": "code",
      "metadata": {
        "id": "DpJ4t4ERnoYl"
      },
      "source": [
        "!pip install ortools\n",
        "!pip install geopandas"
      ],
      "execution_count": null,
      "outputs": []
    },
    {
      "cell_type": "markdown",
      "metadata": {
        "id": "XDnahW6sCU8f"
      },
      "source": [
        "## Load packages and data\n",
        "\n",
        "Select random airport locations in the US as our points. Node 0 will be the starting point and all others will be drop-off points."
      ]
    },
    {
      "cell_type": "code",
      "metadata": {
        "id": "DACn2oien37i"
      },
      "source": [
        "from ortools.constraint_solver import routing_enums_pb2\n",
        "from ortools.constraint_solver import pywrapcp\n",
        "from sklearn.neighbors import DistanceMetric\n",
        "from math import radians\n",
        "import pandas as pd\n",
        "import numpy as np\n",
        "\n",
        "from shapely.geometry import Point\n",
        "import geopandas as gpd\n",
        "from geopandas import GeoDataFrame"
      ],
      "execution_count": null,
      "outputs": []
    },
    {
      "cell_type": "code",
      "metadata": {
        "id": "SzyKb7gooPxc"
      },
      "source": [
        "airports = pd.read_csv(\"https://ourairports.com/countries/US/airports.csv\")"
      ],
      "execution_count": null,
      "outputs": []
    },
    {
      "cell_type": "code",
      "metadata": {
        "colab": {
          "base_uri": "https://localhost:8080/",
          "height": 644
        },
        "id": "5t5z184RurIp",
        "outputId": "68dead75-b3c6-43ed-bafa-8a4f2f3ac3d6"
      },
      "source": [
        "random_air = airports[airports.type == 'small_airport'].sample(10)\n",
        "random_air['nid'] = range(10)\n",
        "random_air"
      ],
      "execution_count": null,
      "outputs": [
        {
          "output_type": "execute_result",
          "data": {
            "text/html": [
              "<div>\n",
              "<style scoped>\n",
              "    .dataframe tbody tr th:only-of-type {\n",
              "        vertical-align: middle;\n",
              "    }\n",
              "\n",
              "    .dataframe tbody tr th {\n",
              "        vertical-align: top;\n",
              "    }\n",
              "\n",
              "    .dataframe thead th {\n",
              "        text-align: right;\n",
              "    }\n",
              "</style>\n",
              "<table border=\"1\" class=\"dataframe\">\n",
              "  <thead>\n",
              "    <tr style=\"text-align: right;\">\n",
              "      <th></th>\n",
              "      <th>id</th>\n",
              "      <th>ident</th>\n",
              "      <th>type</th>\n",
              "      <th>name</th>\n",
              "      <th>latitude_deg</th>\n",
              "      <th>longitude_deg</th>\n",
              "      <th>elevation_ft</th>\n",
              "      <th>continent</th>\n",
              "      <th>country_name</th>\n",
              "      <th>iso_country</th>\n",
              "      <th>region_name</th>\n",
              "      <th>iso_region</th>\n",
              "      <th>local_region</th>\n",
              "      <th>municipality</th>\n",
              "      <th>scheduled_service</th>\n",
              "      <th>gps_code</th>\n",
              "      <th>iata_code</th>\n",
              "      <th>local_code</th>\n",
              "      <th>home_link</th>\n",
              "      <th>wikipedia_link</th>\n",
              "      <th>keywords</th>\n",
              "      <th>score</th>\n",
              "      <th>last_updated</th>\n",
              "      <th>nid</th>\n",
              "    </tr>\n",
              "  </thead>\n",
              "  <tbody>\n",
              "    <tr>\n",
              "      <th>7397</th>\n",
              "      <td>11524</td>\n",
              "      <td>4M5</td>\n",
              "      <td>small_airport</td>\n",
              "      <td>Dermott Municipal Airport</td>\n",
              "      <td>33.487999</td>\n",
              "      <td>-91.442596</td>\n",
              "      <td>135.0</td>\n",
              "      <td>NaN</td>\n",
              "      <td>United States</td>\n",
              "      <td>US</td>\n",
              "      <td>Arkansas</td>\n",
              "      <td>US-AR</td>\n",
              "      <td>AR</td>\n",
              "      <td>Dermott</td>\n",
              "      <td>0</td>\n",
              "      <td>4M5</td>\n",
              "      <td>NaN</td>\n",
              "      <td>4M5</td>\n",
              "      <td>NaN</td>\n",
              "      <td>NaN</td>\n",
              "      <td>NaN</td>\n",
              "      <td>50</td>\n",
              "      <td>2008-06-13T14:30:04+00:00</td>\n",
              "      <td>0</td>\n",
              "    </tr>\n",
              "    <tr>\n",
              "      <th>7666</th>\n",
              "      <td>25823</td>\n",
              "      <td>WN28</td>\n",
              "      <td>small_airport</td>\n",
              "      <td>Sunny Slope Runway Airport</td>\n",
              "      <td>44.982800</td>\n",
              "      <td>-87.309502</td>\n",
              "      <td>730.0</td>\n",
              "      <td>NaN</td>\n",
              "      <td>United States</td>\n",
              "      <td>US</td>\n",
              "      <td>Wisconsin</td>\n",
              "      <td>US-WI</td>\n",
              "      <td>WI</td>\n",
              "      <td>Egg Harbor</td>\n",
              "      <td>0</td>\n",
              "      <td>WN28</td>\n",
              "      <td>NaN</td>\n",
              "      <td>WN28</td>\n",
              "      <td>NaN</td>\n",
              "      <td>NaN</td>\n",
              "      <td>NaN</td>\n",
              "      <td>50</td>\n",
              "      <td>2008-06-13T14:30:04+00:00</td>\n",
              "      <td>1</td>\n",
              "    </tr>\n",
              "    <tr>\n",
              "      <th>12675</th>\n",
              "      <td>21631</td>\n",
              "      <td>LL98</td>\n",
              "      <td>small_airport</td>\n",
              "      <td>John W Meils Restricted Landing Area</td>\n",
              "      <td>40.943600</td>\n",
              "      <td>-89.108299</td>\n",
              "      <td>705.0</td>\n",
              "      <td>NaN</td>\n",
              "      <td>United States</td>\n",
              "      <td>US</td>\n",
              "      <td>Illinois</td>\n",
              "      <td>US-IL</td>\n",
              "      <td>IL</td>\n",
              "      <td>Rutland</td>\n",
              "      <td>0</td>\n",
              "      <td>LL98</td>\n",
              "      <td>NaN</td>\n",
              "      <td>LL98</td>\n",
              "      <td>NaN</td>\n",
              "      <td>NaN</td>\n",
              "      <td>NaN</td>\n",
              "      <td>50</td>\n",
              "      <td>2009-12-27T05:51:01+00:00</td>\n",
              "      <td>2</td>\n",
              "    </tr>\n",
              "    <tr>\n",
              "      <th>418</th>\n",
              "      <td>19676</td>\n",
              "      <td>KDXR</td>\n",
              "      <td>small_airport</td>\n",
              "      <td>Danbury Municipal Airport</td>\n",
              "      <td>41.371498</td>\n",
              "      <td>-73.482201</td>\n",
              "      <td>458.0</td>\n",
              "      <td>NaN</td>\n",
              "      <td>United States</td>\n",
              "      <td>US</td>\n",
              "      <td>Connecticut</td>\n",
              "      <td>US-CT</td>\n",
              "      <td>CT</td>\n",
              "      <td>Danbury</td>\n",
              "      <td>0</td>\n",
              "      <td>KDXR</td>\n",
              "      <td>DXR</td>\n",
              "      <td>DXR</td>\n",
              "      <td>NaN</td>\n",
              "      <td>https://en.wikipedia.org/wiki/Danbury_Municipa...</td>\n",
              "      <td>NaN</td>\n",
              "      <td>50</td>\n",
              "      <td>2012-07-05T01:36:14+00:00</td>\n",
              "      <td>3</td>\n",
              "    </tr>\n",
              "    <tr>\n",
              "      <th>8769</th>\n",
              "      <td>7397</td>\n",
              "      <td>0ND6</td>\n",
              "      <td>small_airport</td>\n",
              "      <td>Schumacher Strip</td>\n",
              "      <td>46.055000</td>\n",
              "      <td>-99.917099</td>\n",
              "      <td>2020.0</td>\n",
              "      <td>NaN</td>\n",
              "      <td>United States</td>\n",
              "      <td>US</td>\n",
              "      <td>North Dakota</td>\n",
              "      <td>US-ND</td>\n",
              "      <td>ND</td>\n",
              "      <td>Hague</td>\n",
              "      <td>0</td>\n",
              "      <td>0ND6</td>\n",
              "      <td>NaN</td>\n",
              "      <td>0ND6</td>\n",
              "      <td>NaN</td>\n",
              "      <td>NaN</td>\n",
              "      <td>NaN</td>\n",
              "      <td>50</td>\n",
              "      <td>2008-07-13T21:58:20+00:00</td>\n",
              "      <td>4</td>\n",
              "    </tr>\n",
              "    <tr>\n",
              "      <th>3732</th>\n",
              "      <td>16838</td>\n",
              "      <td>CN29</td>\n",
              "      <td>small_airport</td>\n",
              "      <td>J-B Airport</td>\n",
              "      <td>37.935200</td>\n",
              "      <td>-121.014999</td>\n",
              "      <td>103.0</td>\n",
              "      <td>NaN</td>\n",
              "      <td>United States</td>\n",
              "      <td>US</td>\n",
              "      <td>California</td>\n",
              "      <td>US-CA</td>\n",
              "      <td>CA</td>\n",
              "      <td>Farmington</td>\n",
              "      <td>0</td>\n",
              "      <td>CN29</td>\n",
              "      <td>NaN</td>\n",
              "      <td>CN29</td>\n",
              "      <td>NaN</td>\n",
              "      <td>NaN</td>\n",
              "      <td>NaN</td>\n",
              "      <td>50</td>\n",
              "      <td>2008-06-13T14:30:04+00:00</td>\n",
              "      <td>5</td>\n",
              "    </tr>\n",
              "    <tr>\n",
              "      <th>10268</th>\n",
              "      <td>8988</td>\n",
              "      <td>24C</td>\n",
              "      <td>small_airport</td>\n",
              "      <td>Lowell City Airport</td>\n",
              "      <td>42.953899</td>\n",
              "      <td>-85.343903</td>\n",
              "      <td>681.0</td>\n",
              "      <td>NaN</td>\n",
              "      <td>United States</td>\n",
              "      <td>US</td>\n",
              "      <td>Michigan</td>\n",
              "      <td>US-MI</td>\n",
              "      <td>MI</td>\n",
              "      <td>Lowell</td>\n",
              "      <td>0</td>\n",
              "      <td>24C</td>\n",
              "      <td>NaN</td>\n",
              "      <td>24C</td>\n",
              "      <td>NaN</td>\n",
              "      <td>NaN</td>\n",
              "      <td>NaN</td>\n",
              "      <td>50</td>\n",
              "      <td>2008-06-13T14:30:04+00:00</td>\n",
              "      <td>6</td>\n",
              "    </tr>\n",
              "    <tr>\n",
              "      <th>21380</th>\n",
              "      <td>345406</td>\n",
              "      <td>US-4457</td>\n",
              "      <td>small_airport</td>\n",
              "      <td>Triple Eagle Ranch Airport</td>\n",
              "      <td>32.253060</td>\n",
              "      <td>-97.960370</td>\n",
              "      <td>1000.0</td>\n",
              "      <td>NaN</td>\n",
              "      <td>United States</td>\n",
              "      <td>US</td>\n",
              "      <td>Texas</td>\n",
              "      <td>US-TX</td>\n",
              "      <td>TX</td>\n",
              "      <td>Bluff Dale</td>\n",
              "      <td>0</td>\n",
              "      <td>NaN</td>\n",
              "      <td>NaN</td>\n",
              "      <td>NaN</td>\n",
              "      <td>NaN</td>\n",
              "      <td>NaN</td>\n",
              "      <td>NaN</td>\n",
              "      <td>0</td>\n",
              "      <td>2021-06-11T18:01:33+00:00</td>\n",
              "      <td>7</td>\n",
              "    </tr>\n",
              "    <tr>\n",
              "      <th>8910</th>\n",
              "      <td>21974</td>\n",
              "      <td>ME47</td>\n",
              "      <td>small_airport</td>\n",
              "      <td>Payne Field</td>\n",
              "      <td>44.854500</td>\n",
              "      <td>-69.456398</td>\n",
              "      <td>350.0</td>\n",
              "      <td>NaN</td>\n",
              "      <td>United States</td>\n",
              "      <td>US</td>\n",
              "      <td>Maine</td>\n",
              "      <td>US-ME</td>\n",
              "      <td>ME</td>\n",
              "      <td>Hartland</td>\n",
              "      <td>0</td>\n",
              "      <td>ME47</td>\n",
              "      <td>NaN</td>\n",
              "      <td>ME47</td>\n",
              "      <td>NaN</td>\n",
              "      <td>NaN</td>\n",
              "      <td>NaN</td>\n",
              "      <td>50</td>\n",
              "      <td>2008-06-13T14:30:04+00:00</td>\n",
              "      <td>8</td>\n",
              "    </tr>\n",
              "    <tr>\n",
              "      <th>24923</th>\n",
              "      <td>330461</td>\n",
              "      <td>47VT</td>\n",
              "      <td>small_airport</td>\n",
              "      <td>Cub Field</td>\n",
              "      <td>44.125677</td>\n",
              "      <td>-73.369616</td>\n",
              "      <td>140.0</td>\n",
              "      <td>NaN</td>\n",
              "      <td>United States</td>\n",
              "      <td>US</td>\n",
              "      <td>Vermont</td>\n",
              "      <td>US-VT</td>\n",
              "      <td>VT</td>\n",
              "      <td>Panton</td>\n",
              "      <td>0</td>\n",
              "      <td>47VT</td>\n",
              "      <td>NaN</td>\n",
              "      <td>47VT</td>\n",
              "      <td>NaN</td>\n",
              "      <td>NaN</td>\n",
              "      <td>NaN</td>\n",
              "      <td>0</td>\n",
              "      <td>2019-02-12T23:43:35+00:00</td>\n",
              "      <td>9</td>\n",
              "    </tr>\n",
              "  </tbody>\n",
              "</table>\n",
              "</div>"
            ],
            "text/plain": [
              "           id    ident           type  ... score               last_updated  nid\n",
              "7397    11524      4M5  small_airport  ...    50  2008-06-13T14:30:04+00:00    0\n",
              "7666    25823     WN28  small_airport  ...    50  2008-06-13T14:30:04+00:00    1\n",
              "12675   21631     LL98  small_airport  ...    50  2009-12-27T05:51:01+00:00    2\n",
              "418     19676     KDXR  small_airport  ...    50  2012-07-05T01:36:14+00:00    3\n",
              "8769     7397     0ND6  small_airport  ...    50  2008-07-13T21:58:20+00:00    4\n",
              "3732    16838     CN29  small_airport  ...    50  2008-06-13T14:30:04+00:00    5\n",
              "10268    8988      24C  small_airport  ...    50  2008-06-13T14:30:04+00:00    6\n",
              "21380  345406  US-4457  small_airport  ...     0  2021-06-11T18:01:33+00:00    7\n",
              "8910    21974     ME47  small_airport  ...    50  2008-06-13T14:30:04+00:00    8\n",
              "24923  330461     47VT  small_airport  ...     0  2019-02-12T23:43:35+00:00    9\n",
              "\n",
              "[10 rows x 24 columns]"
            ]
          },
          "metadata": {
            "tags": []
          },
          "execution_count": 4
        }
      ]
    },
    {
      "cell_type": "code",
      "metadata": {
        "colab": {
          "base_uri": "https://localhost:8080/",
          "height": 226
        },
        "id": "czBzm6jy0h98",
        "outputId": "4aaef7e6-44c2-4834-8b83-e7728d783d84"
      },
      "source": [
        "# plot map\n",
        "gdf = gpd.GeoDataFrame(random_air, \n",
        "                       geometry=gpd.points_from_xy(random_air.longitude_deg, random_air.latitude_deg))\n",
        "\n",
        "world = gpd.read_file(gpd.datasets.get_path('naturalearth_lowres'))\n",
        "ax = world[world.continent == 'North America'].plot(color='white', edgecolor='darkgrey')\n",
        "for x, y, label in zip(random_air.longitude_deg, random_air.latitude_deg, random_air.nid):\n",
        "    ax.annotate(label, xy=(x, y), xytext=(0, 0), fontsize=16, textcoords=\"offset points\")\n",
        "gdf.plot(ax=ax, color='pink')"
      ],
      "execution_count": null,
      "outputs": [
        {
          "output_type": "execute_result",
          "data": {
            "text/plain": [
              "<matplotlib.axes._subplots.AxesSubplot at 0x7f9972598f10>"
            ]
          },
          "metadata": {
            "tags": []
          },
          "execution_count": 5
        },
        {
          "output_type": "display_data",
          "data": {
            "image/png": "[encoded data removed]",
            "text/plain": [
              "<Figure size 432x288 with 1 Axes>"
            ]
          },
          "metadata": {
            "tags": [],
            "needs_background": "light"
          }
        }
      ]
    },
    {
      "cell_type": "code",
      "metadata": {
        "colab": {
          "base_uri": "https://localhost:8080/"
        },
        "id": "uq9lx7jKpZBt",
        "outputId": "1500687e-d6f6-4dac-d0eb-c98c6c334734"
      },
      "source": [
        "# Generate data for analysis\n",
        "# get Haversine distance between each point in km\n",
        "random_air['latitude_rad'] = np.radians(random_air['latitude_deg'])\n",
        "random_air['longitude_rad'] = np.radians(random_air['longitude_deg'])\n",
        "dist = DistanceMetric.get_metric('haversine')\n",
        "air_coords = random_air[['latitude_rad','longitude_rad']].to_numpy()\n",
        "distance_km = dist.pairwise(air_coords)*6373 # km distance\n",
        "\n",
        "data = {}\n",
        "data['distance_matrix'] = np.ndarray.tolist(distance_km.astype(np.int))\n",
        "data['num_vehicles'] = 4\n",
        "data['depot'] = 0 # this is the starting/ending depot\n",
        "\n",
        "# maximum travel distance\n",
        "maxdist = int(max(5000, np.amax(distance_km)*2.1))\n",
        "\n",
        "print(distance_km.astype(np.int))\n",
        "# distance between each point"
      ],
      "execution_count": null,
      "outputs": [
        {
          "output_type": "stream",
          "text": [
            "[[   0 1326  854 1807 1572 2704 1179  624 2267 1955]\n",
            " [1326    0  472 1189  988 2893  275 1688 1403 1107]\n",
            " [ 854  472    0 1307 1039 2745  383 1247 1654 1335]\n",
            " [1807 1189 1307    0 2177 4037  992 2393  506  306]\n",
            " [1572  988 1039 2177    0 1955 1204 1544 2365 2085]\n",
            " [2704 2893 2745 4037 1955    0 3047 2184 4296 3999]\n",
            " [1179  275  383  992 1204 3047    0 1625 1288  973]\n",
            " [ 624 1688 1247 2393 1544 2184 1625    0 2826 2508]\n",
            " [2267 1403 1654  506 2365 4296 1288 2826    0  320]\n",
            " [1955 1107 1335  306 2085 3999  973 2508  320    0]]\n"
          ],
          "name": "stdout"
        }
      ]
    },
    {
      "cell_type": "markdown",
      "metadata": {
        "id": "BwIZ-G7MDItx"
      },
      "source": [
        "Functions and parameters based on https://developers.google.com/optimization/routing/vrp"
      ]
    },
    {
      "cell_type": "code",
      "metadata": {
        "id": "BFR7ESoSr-CS"
      },
      "source": [
        "def distance_callback(from_index, to_index):\n",
        "    \"\"\"Returns the distance between the two nodes.\"\"\"\n",
        "    # Convert from routing variable Index to distance matrix NodeIndex.\n",
        "    from_node = manager.IndexToNode(from_index)\n",
        "    to_node = manager.IndexToNode(to_index)\n",
        "    return data['distance_matrix'][from_node][to_node]\n",
        "\n",
        "def print_solution(data, manager, routing, solution):\n",
        "    \"\"\"Prints solution on console.\"\"\"\n",
        "    print(f'Objective: {solution.ObjectiveValue()}')\n",
        "    max_route_distance = 0\n",
        "    for vehicle_id in range(data['num_vehicles']):\n",
        "        index = routing.Start(vehicle_id)\n",
        "        plan_output = 'Route for vehicle {}:\\n'.format(vehicle_id)\n",
        "        route_distance = 0\n",
        "        while not routing.IsEnd(index):\n",
        "            plan_output += ' {} -> '.format(manager.IndexToNode(index))\n",
        "            previous_index = index\n",
        "            index = solution.Value(routing.NextVar(index))\n",
        "            route_distance += routing.GetArcCostForVehicle(\n",
        "                previous_index, index, vehicle_id)\n",
        "        plan_output += '{}\\n'.format(manager.IndexToNode(index))\n",
        "        plan_output += 'Distance of the route: {}m\\n'.format(route_distance)\n",
        "        print(plan_output)\n",
        "        max_route_distance = max(route_distance, max_route_distance)\n",
        "    print('Maximum of the route distances: {}m'.format(max_route_distance))"
      ],
      "execution_count": null,
      "outputs": []
    },
    {
      "cell_type": "markdown",
      "metadata": {
        "id": "9DY8vQVHDKxM"
      },
      "source": [
        "Optimization parameters"
      ]
    },
    {
      "cell_type": "code",
      "metadata": {
        "id": "fwoE-Nf9syRp"
      },
      "source": [
        "# Create the routing index manager.\n",
        "manager = pywrapcp.RoutingIndexManager(len(data['distance_matrix']),\n",
        "                                       data['num_vehicles'], data['depot'])\n",
        "\n",
        "# Create Routing Model.\n",
        "routing = pywrapcp.RoutingModel(manager)\n",
        "transit_callback_index = routing.RegisterTransitCallback(distance_callback)\n",
        "\n",
        "# Define cost of each arc.\n",
        "routing.SetArcCostEvaluatorOfAllVehicles(transit_callback_index)\n",
        "\n",
        "# Optimization parameters -- we're solving for the cumulative distance\n",
        "dimension_name = 'Distance'\n",
        "routing.AddDimension(\n",
        "        transit_callback_index,\n",
        "        0,  # no slack\n",
        "        maxdist,  # vehicle maximum travel distance\n",
        "        True,  # start cumul to zero\n",
        "        dimension_name)\n",
        "distance_dimension = routing.GetDimensionOrDie(dimension_name)\n",
        "distance_dimension.SetGlobalSpanCostCoefficient(100)\n",
        "\n",
        "# Setting first solution heuristic.\n",
        "search_parameters = pywrapcp.DefaultRoutingSearchParameters()\n",
        "search_parameters.first_solution_strategy = (\n",
        "        routing_enums_pb2.FirstSolutionStrategy.PATH_CHEAPEST_ARC)"
      ],
      "execution_count": null,
      "outputs": []
    },
    {
      "cell_type": "code",
      "metadata": {
        "id": "FyzQeNyJtLOF",
        "colab": {
          "base_uri": "https://localhost:8080/"
        },
        "outputId": "a1e2b732-f12d-4efa-f494-0afe395329a4"
      },
      "source": [
        "# Solve the problem.\n",
        "solution = routing.SolveWithParameters(search_parameters)\n",
        "\n",
        "# Print solution on console.\n",
        "if solution:\n",
        "    print_solution(data, manager, routing, solution)\n",
        "else:\n",
        "    print('No solution found !')\n"
      ],
      "execution_count": null,
      "outputs": [
        {
          "output_type": "stream",
          "text": [
            "Objective: 555464\n",
            "Route for vehicle 0:\n",
            " 0 ->  7 ->  4 ->  1 ->  6 ->  2 -> 0\n",
            "Distance of the route: 4668m\n",
            "\n",
            "Route for vehicle 1:\n",
            " 0 -> 0\n",
            "Distance of the route: 0m\n",
            "\n",
            "Route for vehicle 2:\n",
            " 0 ->  9 ->  8 ->  3 -> 0\n",
            "Distance of the route: 4588m\n",
            "\n",
            "Route for vehicle 3:\n",
            " 0 ->  5 -> 0\n",
            "Distance of the route: 5408m\n",
            "\n",
            "Maximum of the route distances: 5408m\n"
          ],
          "name": "stdout"
        }
      ]
    }
  ]
}