{
  "nbformat": 4,
  "nbformat_minor": 0,
  "metadata": {
    "colab": {
      "name": "Airports.ipynb",
      "provenance": [],
      "collapsed_sections": [],
      "authorship_tag": "ABX9TyNVwCj/iYUydi+HSoyk4oWK",
      "include_colab_link": true
    },
    "kernelspec": {
      "name": "python3",
      "display_name": "Python 3"
    },
    "language_info": {
      "name": "python"
    }
  },
  "cells": [
    {
      "cell_type": "markdown",
      "metadata": {
        "id": "view-in-github",
        "colab_type": "text"
      },
      "source": [
        "<a href=\"https://colab.research.google.com/github/berdaniera/experiments/blob/master/Airports.ipynb\" target=\"_parent\"><img src=\"https://colab.research.google.com/assets/colab-badge.svg\" alt=\"Open In Colab\"/></a>"
      ]
    },
    {
      "cell_type": "markdown",
      "metadata": {
        "id": "A3l-uN0pCWZ1"
      },
      "source": [
        "# Routing problem example\n",
        "\n",
        "**Scenario:** 10 drop-offs from a common location with 4 airplanes, e.g., following a major event. (Extensions include different pickup and drop-off locations, capacity and time window constraints.)"
      ]
    },
    {
      "cell_type": "code",
      "metadata": {
        "id": "DpJ4t4ERnoYl"
      },
      "source": [
        "!pip install ortools\n",
        "!pip install geopandas"
      ],
      "execution_count": null,
      "outputs": []
    },
    {
      "cell_type": "markdown",
      "metadata": {
        "id": "XDnahW6sCU8f"
      },
      "source": [
        "## Load packages and data\n",
        "\n",
        "Select random airport locations in the US as our points. Node 0 will be the starting point and all others will be drop-off points."
      ]
    },
    {
      "cell_type": "code",
      "metadata": {
        "id": "DACn2oien37i"
      },
      "source": [
        "from ortools.constraint_solver import routing_enums_pb2\n",
        "from ortools.constraint_solver import pywrapcp\n",
        "from sklearn.neighbors import DistanceMetric\n",
        "from math import radians\n",
        "import pandas as pd\n",
        "import numpy as np\n",
        "\n",
        "from shapely.geometry import Point\n",
        "import geopandas as gpd\n",
        "from geopandas import GeoDataFrame"
      ],
      "execution_count": 2,
      "outputs": []
    },
    {
      "cell_type": "code",
      "metadata": {
        "id": "SzyKb7gooPxc"
      },
      "source": [
        "airports = pd.read_csv(\"https://ourairports.com/countries/US/airports.csv\")"
      ],
      "execution_count": 3,
      "outputs": []
    },
    {
      "cell_type": "code",
      "metadata": {
        "colab": {
          "base_uri": "https://localhost:8080/",
          "height": 696
        },
        "id": "5t5z184RurIp",
        "outputId": "b4784258-05cb-49b0-f3b1-e3fed11062a3"
      },
      "source": [
        "random_air = airports[airports.type == 'small_airport'].sample(10)\n",
        "random_air['nid'] = range(10)\n",
        "random_air"
      ],
      "execution_count": 44,
      "outputs": [
        {
          "output_type": "execute_result",
          "data": {
            "text/html": [
              "<div>\n",
              "<style scoped>\n",
              "    .dataframe tbody tr th:only-of-type {\n",
              "        vertical-align: middle;\n",
              "    }\n",
              "\n",
              "    .dataframe tbody tr th {\n",
              "        vertical-align: top;\n",
              "    }\n",
              "\n",
              "    .dataframe thead th {\n",
              "        text-align: right;\n",
              "    }\n",
              "</style>\n",
              "<table border=\"1\" class=\"dataframe\">\n",
              "  <thead>\n",
              "    <tr style=\"text-align: right;\">\n",
              "      <th></th>\n",
              "      <th>id</th>\n",
              "      <th>ident</th>\n",
              "      <th>type</th>\n",
              "      <th>name</th>\n",
              "      <th>latitude_deg</th>\n",
              "      <th>longitude_deg</th>\n",
              "      <th>elevation_ft</th>\n",
              "      <th>continent</th>\n",
              "      <th>country_name</th>\n",
              "      <th>iso_country</th>\n",
              "      <th>region_name</th>\n",
              "      <th>iso_region</th>\n",
              "      <th>local_region</th>\n",
              "      <th>municipality</th>\n",
              "      <th>scheduled_service</th>\n",
              "      <th>gps_code</th>\n",
              "      <th>iata_code</th>\n",
              "      <th>local_code</th>\n",
              "      <th>home_link</th>\n",
              "      <th>wikipedia_link</th>\n",
              "      <th>keywords</th>\n",
              "      <th>score</th>\n",
              "      <th>last_updated</th>\n",
              "      <th>nid</th>\n",
              "    </tr>\n",
              "  </thead>\n",
              "  <tbody>\n",
              "    <tr>\n",
              "      <th>2679</th>\n",
              "      <td>21092</td>\n",
              "      <td>KSNK</td>\n",
              "      <td>small_airport</td>\n",
              "      <td>Winston Field</td>\n",
              "      <td>32.690212</td>\n",
              "      <td>-100.948918</td>\n",
              "      <td>2430.0</td>\n",
              "      <td>NaN</td>\n",
              "      <td>United States</td>\n",
              "      <td>US</td>\n",
              "      <td>Texas</td>\n",
              "      <td>US-TX</td>\n",
              "      <td>TX</td>\n",
              "      <td>Snyder</td>\n",
              "      <td>0</td>\n",
              "      <td>KSNK</td>\n",
              "      <td>SNK</td>\n",
              "      <td>SNK</td>\n",
              "      <td>NaN</td>\n",
              "      <td>NaN</td>\n",
              "      <td>NaN</td>\n",
              "      <td>50</td>\n",
              "      <td>2021-05-11T02:22:15+00:00</td>\n",
              "      <td>0</td>\n",
              "    </tr>\n",
              "    <tr>\n",
              "      <th>8559</th>\n",
              "      <td>7946</td>\n",
              "      <td>15MA</td>\n",
              "      <td>small_airport</td>\n",
              "      <td>Canapitsit Airport</td>\n",
              "      <td>41.422298</td>\n",
              "      <td>-70.909500</td>\n",
              "      <td>10.0</td>\n",
              "      <td>NaN</td>\n",
              "      <td>United States</td>\n",
              "      <td>US</td>\n",
              "      <td>Massachusetts</td>\n",
              "      <td>US-MA</td>\n",
              "      <td>MA</td>\n",
              "      <td>Gosnold</td>\n",
              "      <td>0</td>\n",
              "      <td>15MA</td>\n",
              "      <td>NaN</td>\n",
              "      <td>15MA</td>\n",
              "      <td>NaN</td>\n",
              "      <td>NaN</td>\n",
              "      <td>NaN</td>\n",
              "      <td>50</td>\n",
              "      <td>2008-06-13T14:30:04+00:00</td>\n",
              "      <td>1</td>\n",
              "    </tr>\n",
              "    <tr>\n",
              "      <th>13378</th>\n",
              "      <td>18883</td>\n",
              "      <td>K55M</td>\n",
              "      <td>small_airport</td>\n",
              "      <td>Star City Municipal Airport</td>\n",
              "      <td>33.926102</td>\n",
              "      <td>-91.877403</td>\n",
              "      <td>398.0</td>\n",
              "      <td>NaN</td>\n",
              "      <td>United States</td>\n",
              "      <td>US</td>\n",
              "      <td>Arkansas</td>\n",
              "      <td>US-AR</td>\n",
              "      <td>AR</td>\n",
              "      <td>Star City</td>\n",
              "      <td>0</td>\n",
              "      <td>K55M</td>\n",
              "      <td>NaN</td>\n",
              "      <td>55M</td>\n",
              "      <td>NaN</td>\n",
              "      <td>NaN</td>\n",
              "      <td>NaN</td>\n",
              "      <td>50</td>\n",
              "      <td>2008-06-13T14:30:04+00:00</td>\n",
              "      <td>2</td>\n",
              "    </tr>\n",
              "    <tr>\n",
              "      <th>8411</th>\n",
              "      <td>22400</td>\n",
              "      <td>MT01</td>\n",
              "      <td>small_airport</td>\n",
              "      <td>Owen Bros Airport</td>\n",
              "      <td>47.618000</td>\n",
              "      <td>-110.092003</td>\n",
              "      <td>3106.0</td>\n",
              "      <td>NaN</td>\n",
              "      <td>United States</td>\n",
              "      <td>US</td>\n",
              "      <td>Montana</td>\n",
              "      <td>US-MT</td>\n",
              "      <td>MT</td>\n",
              "      <td>Geraldine</td>\n",
              "      <td>0</td>\n",
              "      <td>MT01</td>\n",
              "      <td>NaN</td>\n",
              "      <td>MT01</td>\n",
              "      <td>NaN</td>\n",
              "      <td>NaN</td>\n",
              "      <td>NaN</td>\n",
              "      <td>50</td>\n",
              "      <td>2008-06-13T14:30:04+00:00</td>\n",
              "      <td>3</td>\n",
              "    </tr>\n",
              "    <tr>\n",
              "      <th>3770</th>\n",
              "      <td>14453</td>\n",
              "      <td>7WA5</td>\n",
              "      <td>small_airport</td>\n",
              "      <td>Stuart Island Airpark</td>\n",
              "      <td>48.673379</td>\n",
              "      <td>-123.175439</td>\n",
              "      <td>10.0</td>\n",
              "      <td>NaN</td>\n",
              "      <td>United States</td>\n",
              "      <td>US</td>\n",
              "      <td>Washington</td>\n",
              "      <td>US-WA</td>\n",
              "      <td>WA</td>\n",
              "      <td>Friday Harbor</td>\n",
              "      <td>0</td>\n",
              "      <td>7WA5</td>\n",
              "      <td>SSW</td>\n",
              "      <td>7WA5</td>\n",
              "      <td>NaN</td>\n",
              "      <td>NaN</td>\n",
              "      <td>NaN</td>\n",
              "      <td>50</td>\n",
              "      <td>2020-09-22T18:08:32+00:00</td>\n",
              "      <td>4</td>\n",
              "    </tr>\n",
              "    <tr>\n",
              "      <th>11959</th>\n",
              "      <td>14026</td>\n",
              "      <td>79OK</td>\n",
              "      <td>small_airport</td>\n",
              "      <td>Little River Ranch Airport</td>\n",
              "      <td>35.384800</td>\n",
              "      <td>-95.176399</td>\n",
              "      <td>580.0</td>\n",
              "      <td>NaN</td>\n",
              "      <td>United States</td>\n",
              "      <td>US</td>\n",
              "      <td>Oklahoma</td>\n",
              "      <td>US-OK</td>\n",
              "      <td>OK</td>\n",
              "      <td>Pickens</td>\n",
              "      <td>0</td>\n",
              "      <td>79OK</td>\n",
              "      <td>NaN</td>\n",
              "      <td>79OK</td>\n",
              "      <td>NaN</td>\n",
              "      <td>NaN</td>\n",
              "      <td>NaN</td>\n",
              "      <td>50</td>\n",
              "      <td>2008-06-13T14:30:04+00:00</td>\n",
              "      <td>5</td>\n",
              "    </tr>\n",
              "    <tr>\n",
              "      <th>3163</th>\n",
              "      <td>20832</td>\n",
              "      <td>KPHT</td>\n",
              "      <td>small_airport</td>\n",
              "      <td>Henry County Airport</td>\n",
              "      <td>36.338200</td>\n",
              "      <td>-88.382896</td>\n",
              "      <td>580.0</td>\n",
              "      <td>NaN</td>\n",
              "      <td>United States</td>\n",
              "      <td>US</td>\n",
              "      <td>Tennessee</td>\n",
              "      <td>US-TN</td>\n",
              "      <td>TN</td>\n",
              "      <td>Paris</td>\n",
              "      <td>0</td>\n",
              "      <td>KPHT</td>\n",
              "      <td>PHT</td>\n",
              "      <td>PHT</td>\n",
              "      <td>http://www.paristnairport.com/default.htm</td>\n",
              "      <td>https://en.wikipedia.org/wiki/Henry_County_Air...</td>\n",
              "      <td>NaN</td>\n",
              "      <td>50</td>\n",
              "      <td>2014-09-06T10:50:46+00:00</td>\n",
              "      <td>6</td>\n",
              "    </tr>\n",
              "    <tr>\n",
              "      <th>10410</th>\n",
              "      <td>24668</td>\n",
              "      <td>SN92</td>\n",
              "      <td>small_airport</td>\n",
              "      <td>Sunshine Ranch Airport</td>\n",
              "      <td>39.333302</td>\n",
              "      <td>-96.700302</td>\n",
              "      <td>1300.0</td>\n",
              "      <td>NaN</td>\n",
              "      <td>United States</td>\n",
              "      <td>US</td>\n",
              "      <td>Kansas</td>\n",
              "      <td>US-KS</td>\n",
              "      <td>KS</td>\n",
              "      <td>Manhattan</td>\n",
              "      <td>0</td>\n",
              "      <td>SN92</td>\n",
              "      <td>NaN</td>\n",
              "      <td>SN92</td>\n",
              "      <td>NaN</td>\n",
              "      <td>NaN</td>\n",
              "      <td>NaN</td>\n",
              "      <td>50</td>\n",
              "      <td>2008-06-13T14:30:04+00:00</td>\n",
              "      <td>7</td>\n",
              "    </tr>\n",
              "    <tr>\n",
              "      <th>5575</th>\n",
              "      <td>23878</td>\n",
              "      <td>OR28</td>\n",
              "      <td>small_airport</td>\n",
              "      <td>Harvey's Acres Airport</td>\n",
              "      <td>45.439328</td>\n",
              "      <td>-122.890283</td>\n",
              "      <td>250.0</td>\n",
              "      <td>NaN</td>\n",
              "      <td>United States</td>\n",
              "      <td>US</td>\n",
              "      <td>Oregon</td>\n",
              "      <td>US-OR</td>\n",
              "      <td>OR</td>\n",
              "      <td>Beaverton</td>\n",
              "      <td>0</td>\n",
              "      <td>OR28</td>\n",
              "      <td>NaN</td>\n",
              "      <td>OR28</td>\n",
              "      <td>NaN</td>\n",
              "      <td>NaN</td>\n",
              "      <td>NaN</td>\n",
              "      <td>50</td>\n",
              "      <td>2021-04-15T17:47:35+00:00</td>\n",
              "      <td>8</td>\n",
              "    </tr>\n",
              "    <tr>\n",
              "      <th>7893</th>\n",
              "      <td>15314</td>\n",
              "      <td>91LA</td>\n",
              "      <td>small_airport</td>\n",
              "      <td>Koch Airport</td>\n",
              "      <td>30.534599</td>\n",
              "      <td>-92.367401</td>\n",
              "      <td>51.0</td>\n",
              "      <td>NaN</td>\n",
              "      <td>United States</td>\n",
              "      <td>US</td>\n",
              "      <td>Louisiana</td>\n",
              "      <td>US-LA</td>\n",
              "      <td>LA</td>\n",
              "      <td>Eunice</td>\n",
              "      <td>0</td>\n",
              "      <td>91LA</td>\n",
              "      <td>NaN</td>\n",
              "      <td>91LA</td>\n",
              "      <td>NaN</td>\n",
              "      <td>NaN</td>\n",
              "      <td>NaN</td>\n",
              "      <td>50</td>\n",
              "      <td>2008-06-13T14:30:04+00:00</td>\n",
              "      <td>9</td>\n",
              "    </tr>\n",
              "  </tbody>\n",
              "</table>\n",
              "</div>"
            ],
            "text/plain": [
              "          id ident           type  ... score               last_updated  nid\n",
              "2679   21092  KSNK  small_airport  ...    50  2021-05-11T02:22:15+00:00    0\n",
              "8559    7946  15MA  small_airport  ...    50  2008-06-13T14:30:04+00:00    1\n",
              "13378  18883  K55M  small_airport  ...    50  2008-06-13T14:30:04+00:00    2\n",
              "8411   22400  MT01  small_airport  ...    50  2008-06-13T14:30:04+00:00    3\n",
              "3770   14453  7WA5  small_airport  ...    50  2020-09-22T18:08:32+00:00    4\n",
              "11959  14026  79OK  small_airport  ...    50  2008-06-13T14:30:04+00:00    5\n",
              "3163   20832  KPHT  small_airport  ...    50  2014-09-06T10:50:46+00:00    6\n",
              "10410  24668  SN92  small_airport  ...    50  2008-06-13T14:30:04+00:00    7\n",
              "5575   23878  OR28  small_airport  ...    50  2021-04-15T17:47:35+00:00    8\n",
              "7893   15314  91LA  small_airport  ...    50  2008-06-13T14:30:04+00:00    9\n",
              "\n",
              "[10 rows x 24 columns]"
            ]
          },
          "metadata": {
            "tags": []
          },
          "execution_count": 44
        }
      ]
    },
    {
      "cell_type": "code",
      "metadata": {
        "colab": {
          "base_uri": "https://localhost:8080/",
          "height": 225
        },
        "id": "czBzm6jy0h98",
        "outputId": "d9199878-3be2-4ce0-b000-923a23560abb"
      },
      "source": [
        "# plot map\n",
        "gdf = gpd.GeoDataFrame(random_air, \n",
        "                       geometry=gpd.points_from_xy(random_air.longitude_deg, random_air.latitude_deg))\n",
        "\n",
        "world = gpd.read_file(gpd.datasets.get_path('naturalearth_lowres'))\n",
        "ax = world[world.continent == 'North America'].plot(color='white', edgecolor='darkgrey')\n",
        "for x, y, label in zip(random_air.longitude_deg, random_air.latitude_deg, random_air.nid):\n",
        "    ax.annotate(label, xy=(x, y), xytext=(0, 0), fontsize=16, textcoords=\"offset points\")\n",
        "gdf.plot(ax=ax, color='pink')"
      ],
      "execution_count": 45,
      "outputs": [
        {
          "output_type": "execute_result",
          "data": {
            "text/plain": [
              "<matplotlib.axes._subplots.AxesSubplot at 0x7f104231f5d0>"
            ]
          },
          "metadata": {
            "tags": []
          },
          "execution_count": 45
        },
        {
          "output_type": "display_data",
          "data": {
            "image/png": "[encoded data removed]",
            "text/plain": [
              "<Figure size 432x288 with 1 Axes>"
            ]
          },
          "metadata": {
            "tags": [],
            "needs_background": "light"
          }
        }
      ]
    },
    {
      "cell_type": "code",
      "metadata": {
        "colab": {
          "base_uri": "https://localhost:8080/"
        },
        "id": "uq9lx7jKpZBt",
        "outputId": "ccbca373-13d1-4528-e271-5e5e0be67fbc"
      },
      "source": [
        "# Generate data for analysis\n",
        "# get Haversine distance between each point in km\n",
        "random_air['latitude_rad'] = np.radians(random_air['latitude_deg'])\n",
        "random_air['longitude_rad'] = np.radians(random_air['longitude_deg'])\n",
        "dist = DistanceMetric.get_metric('haversine')\n",
        "air_coords = random_air[['latitude_rad','longitude_rad']].to_numpy()\n",
        "distance_km = dist.pairwise(air_coords)*6373 # km distance\n",
        "\n",
        "data = {}\n",
        "data['distance_matrix'] = np.ndarray.tolist(distance_km.astype(np.int))\n",
        "data['num_vehicles'] = 4\n",
        "data['depot'] = 0 # this is the starting/ending depot\n",
        "\n",
        "# maximum travel distance\n",
        "maxdist = int(max(5000, np.amax(distance_km)*2.1))\n",
        "\n",
        "print(distance_km.astype(np.int))\n",
        "# distance between each point"
      ],
      "execution_count": 46,
      "outputs": [
        {
          "output_type": "stream",
          "text": [
            "[[   0 2820  854 1830 2565  610 1219  831 2353  847]\n",
            " [2820    0 2018 3147 4102 2210 1611 2189 4148 2269]\n",
            " [ 854 2018    0 2151 3054  342  415  739 2922  380]\n",
            " [1830 3147 2151    0  976 1836 2177 1416 1007 2427]\n",
            " [2565 4102 3054  976    0 2721 3129 2342  360 3285]\n",
            " [ 610 2210  342 1836 2721    0  621  459 2582  599]\n",
            " [1219 1611  415 2177 3129  621    0  802 3045  743]\n",
            " [ 831 2189  739 1416 2342  459  802    0 2244 1055]\n",
            " [2353 4148 2922 1007  360 2582 3045 2244    0 3119]\n",
            " [ 847 2269  380 2427 3285  599  743 1055 3119    0]]\n"
          ],
          "name": "stdout"
        }
      ]
    },
    {
      "cell_type": "markdown",
      "metadata": {
        "id": "BwIZ-G7MDItx"
      },
      "source": [
        "Functions and parameters based on https://developers.google.com/optimization/routing/vrp"
      ]
    },
    {
      "cell_type": "code",
      "metadata": {
        "id": "BFR7ESoSr-CS"
      },
      "source": [
        "def distance_callback(from_index, to_index):\n",
        "    \"\"\"Returns the distance between the two nodes.\"\"\"\n",
        "    # Convert from routing variable Index to distance matrix NodeIndex.\n",
        "    from_node = manager.IndexToNode(from_index)\n",
        "    to_node = manager.IndexToNode(to_index)\n",
        "    return data['distance_matrix'][from_node][to_node]\n",
        "\n",
        "def print_solution(data, manager, routing, solution):\n",
        "    \"\"\"Prints solution on console.\"\"\"\n",
        "    print(f'Objective: {solution.ObjectiveValue()}')\n",
        "    max_route_distance = 0\n",
        "    for vehicle_id in range(data['num_vehicles']):\n",
        "        index = routing.Start(vehicle_id)\n",
        "        plan_output = 'Route for vehicle {}:\\n'.format(vehicle_id)\n",
        "        route_distance = 0\n",
        "        while not routing.IsEnd(index):\n",
        "            plan_output += ' {} -> '.format(manager.IndexToNode(index))\n",
        "            previous_index = index\n",
        "            index = solution.Value(routing.NextVar(index))\n",
        "            route_distance += routing.GetArcCostForVehicle(\n",
        "                previous_index, index, vehicle_id)\n",
        "        plan_output += '{}\\n'.format(manager.IndexToNode(index))\n",
        "        plan_output += 'Distance of the route: {}km\\n'.format(route_distance)\n",
        "        print(plan_output)"
      ],
      "execution_count": 16,
      "outputs": []
    },
    {
      "cell_type": "markdown",
      "metadata": {
        "id": "9DY8vQVHDKxM"
      },
      "source": [
        "Optimization parameters"
      ]
    },
    {
      "cell_type": "code",
      "metadata": {
        "id": "fwoE-Nf9syRp"
      },
      "source": [
        "# Create the routing index manager.\n",
        "manager = pywrapcp.RoutingIndexManager(len(data['distance_matrix']),\n",
        "                                       data['num_vehicles'], data['depot'])\n",
        "\n",
        "# Create Routing Model.\n",
        "routing = pywrapcp.RoutingModel(manager)\n",
        "transit_callback_index = routing.RegisterTransitCallback(distance_callback)\n",
        "\n",
        "# Define cost of each arc.\n",
        "routing.SetArcCostEvaluatorOfAllVehicles(transit_callback_index)\n",
        "\n",
        "# Optimization parameters -- we're solving for the cumulative distance\n",
        "dimension_name = 'Distance'\n",
        "routing.AddDimension(\n",
        "        transit_callback_index,\n",
        "        0,  # no slack\n",
        "        maxdist,  # vehicle maximum travel distance\n",
        "        True,  # start cumul to zero\n",
        "        dimension_name)\n",
        "distance_dimension = routing.GetDimensionOrDie(dimension_name)\n",
        "distance_dimension.SetGlobalSpanCostCoefficient(100)\n",
        "\n",
        "# Setting first solution heuristic.\n",
        "search_parameters = pywrapcp.DefaultRoutingSearchParameters()\n",
        "search_parameters.first_solution_strategy = (\n",
        "        routing_enums_pb2.FirstSolutionStrategy.PATH_CHEAPEST_ARC)"
      ],
      "execution_count": 47,
      "outputs": []
    },
    {
      "cell_type": "code",
      "metadata": {
        "id": "FyzQeNyJtLOF",
        "colab": {
          "base_uri": "https://localhost:8080/"
        },
        "outputId": "a933fc6c-b94c-42a3-b451-5d5d16ba0ba6"
      },
      "source": [
        "# Solve the problem.\n",
        "solution = routing.SolveWithParameters(search_parameters)\n",
        "\n",
        "# Print solution on console.\n",
        "if solution:\n",
        "    print_solution(data, manager, routing, solution)\n",
        "else:\n",
        "    print('No solution found !')\n"
      ],
      "execution_count": 48,
      "outputs": [
        {
          "output_type": "stream",
          "text": [
            "Objective: 578434\n",
            "Route for vehicle 0:\n",
            " 0 ->  7 ->  6 ->  2 ->  9 -> 0\n",
            "Distance of the route: 3275km\n",
            "\n",
            "Route for vehicle 1:\n",
            " 0 -> 0\n",
            "Distance of the route: 0km\n",
            "\n",
            "Route for vehicle 2:\n",
            " 0 ->  5 ->  1 -> 0\n",
            "Distance of the route: 5640km\n",
            "\n",
            "Route for vehicle 3:\n",
            " 0 ->  3 ->  4 ->  8 -> 0\n",
            "Distance of the route: 5519km\n",
            "\n"
          ],
          "name": "stdout"
        }
      ]
    },
    {
      "cell_type": "code",
      "metadata": {
        "colab": {
          "base_uri": "https://localhost:8080/",
          "height": 225
        },
        "id": "FeOQEhQwecUb",
        "outputId": "3eb7ab25-175e-4524-8ad8-703bcf3510a6"
      },
      "source": [
        "# plot the map again\n",
        "gdf = gpd.GeoDataFrame(random_air, \n",
        "                       geometry=gpd.points_from_xy(random_air.longitude_deg, random_air.latitude_deg))\n",
        "\n",
        "ax = world[world.continent == 'North America'].plot(color='white', edgecolor='darkgrey')\n",
        "for x, y, label in zip(random_air.longitude_deg, random_air.latitude_deg, random_air.nid):\n",
        "    ax.annotate(label, xy=(x, y), xytext=(0, 0), fontsize=16, textcoords=\"offset points\")\n",
        "gdf.plot(ax=ax, color='pink')"
      ],
      "execution_count": 49,
      "outputs": [
        {
          "output_type": "execute_result",
          "data": {
            "text/plain": [
              "<matplotlib.axes._subplots.AxesSubplot at 0x7f104223c150>"
            ]
          },
          "metadata": {
            "tags": []
          },
          "execution_count": 49
        },
        {
          "output_type": "display_data",
          "data": {
            "image/png": "[encoded data removed]",
            "text/plain": [
              "<Figure size 432x288 with 1 Axes>"
            ]
          },
          "metadata": {
            "tags": [],
            "needs_background": "light"
          }
        }
      ]
    },
    {
      "cell_type": "markdown",
      "metadata": {
        "id": "YNTp2hbaedGm"
      },
      "source": [
        "# Conclusion\n",
        "\n",
        "Only three airplanes are needed for these routes:\n",
        "*   one plane takes the long trip to point 1, stopping at point 5 on the way, \n",
        "*   another covers the central stops, and \n",
        "*   the third goes on a route to the northwest.\n",
        "\n",
        "Additional extensions would include trips with a mix of pickups and drop-offs."
      ]
    }
  ]
}